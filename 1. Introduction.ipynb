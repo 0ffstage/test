{
 "cells": [
  {
   "cell_type": "code",
   "execution_count": null,
   "metadata": {},
   "outputs": [],
   "source": []
  },
  {
   "attachments": {},
   "cell_type": "markdown",
   "metadata": {},
   "source": [
    "Functions and variables\n",
    "\n",
    "Conditionals\n",
    "\n",
    "Loops\n",
    "\n",
    "Exceptions\n",
    "\n",
    "Libraries\n",
    "\n",
    "Unit Tests\n",
    "\n"
   ]
  }
 ],
 "metadata": {
  "kernelspec": {
   "display_name": "Python 3",
   "language": "python",
   "name": "python3"
  },
  "language_info": {
   "name": "python",
   "version": "3.10.0 (tags/v3.10.0:b494f59, Oct  4 2021, 19:00:18) [MSC v.1929 64 bit (AMD64)]"
  },
  "orig_nbformat": 4,
  "vscode": {
   "interpreter": {
    "hash": "30884bef96d8045e3cb7d60176c73f0e785e4cb91a42c7c1846b4b3bcf190150"
   }
  }
 },
 "nbformat": 4,
 "nbformat_minor": 2
}
